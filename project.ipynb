{
 "cells": [
  {
   "cell_type": "markdown",
   "metadata": {},
   "source": [
    "# Build a Convolutional Neural Network (CNN) model to classify images from a given dataset into predefined categories/classes."
   ]
  },
  {
   "cell_type": "markdown",
   "metadata": {},
   "source": [
    "### Importing general dependencies"
   ]
  },
  {
   "cell_type": "code",
   "execution_count": 8,
   "metadata": {},
   "outputs": [],
   "source": [
    "#Import general dependencies \n",
    "\n",
    "import pandas as pd\n",
    "import numpy as np\n",
    "import os\n",
    "import matplotlib.pyplot as plt\n",
    "import pathlib\n",
    "import tensorflow as tf\n",
    "from tensorflow import keras\n",
    "from tensorflow.keras.layers import Input\n"
   ]
  },
  {
   "cell_type": "markdown",
   "metadata": {},
   "source": [
    "### Data Loading\n"
   ]
  },
  {
   "cell_type": "code",
   "execution_count": 1,
   "metadata": {},
   "outputs": [
    {
     "data": {
      "text/plain": [
       "['gallina',\n",
       " 'ragno',\n",
       " '.DS_Store',\n",
       " 'gatto',\n",
       " 'farfalla',\n",
       " 'mucca',\n",
       " 'cavallo',\n",
       " 'cane',\n",
       " 'pecora',\n",
       " 'scoiattolo',\n",
       " 'elefante']"
      ]
     },
     "execution_count": 1,
     "metadata": {},
     "output_type": "execute_result"
    }
   ],
   "source": [
    "#Check files and list the directories name\n",
    "\n",
    "base_dir = 'data/raw-img' \n",
    "\n",
    "os.listdir(base_dir)\n"
   ]
  },
  {
   "cell_type": "markdown",
   "metadata": {},
   "source": [
    "### Data Preprocessing\n",
    "\n",
    "Preprocessing (e.g., normalization, resizing, augmentation).\n",
    "Create visualizations of some images, and labels.\n"
   ]
  },
  {
   "cell_type": "code",
   "execution_count": null,
   "metadata": {},
   "outputs": [],
   "source": []
  },
  {
   "cell_type": "markdown",
   "metadata": {},
   "source": [
    "Model Architecture\n",
    "\n",
    "Design a CNN architecture suitable for image classification.\n",
    "Include convolutional layers, pooling layers, and fully connected layers.\n",
    "Model Training\n",
    "\n",
    "Train the CNN model using appropriate optimization techniques (e.g., stochastic gradient descent, Adam).\n",
    "Utilize techniques such as early stopping to prevent overfitting.\n",
    "Model Evaluation\n",
    "\n",
    "Evaluate the trained model on a separate validation set.\n",
    "Compute and report metrics such as accuracy, precision, recall, and F1-score.\n",
    "Visualize the confusion matrix to understand model performance across different classes.\n",
    "Transfer Learning\n",
    "\n",
    "Evaluate the accuracy of your model on a pre-trained models like ImagNet, VGG16, Inception... (pick one an justify your choice)\n",
    "You may find this link helpful.\n",
    "This is the Pytorch version.\n",
    "Perform transfer learning with your chosen pre-trained models i.e., you will probably try a few and choose the best one."
   ]
  }
 ],
 "metadata": {
  "kernelspec": {
   "display_name": "base",
   "language": "python",
   "name": "python3"
  },
  "language_info": {
   "codemirror_mode": {
    "name": "ipython",
    "version": 3
   },
   "file_extension": ".py",
   "mimetype": "text/x-python",
   "name": "python",
   "nbconvert_exporter": "python",
   "pygments_lexer": "ipython3",
   "version": "3.11.7"
  }
 },
 "nbformat": 4,
 "nbformat_minor": 2
}
